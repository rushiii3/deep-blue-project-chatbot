import fitz
import re
import spacy
import os
nlp=spacy.load("en_core_web_sm")


directory="../PDFExtraction/pdfs"
all_pdfs=os.listdir(directory)
all_toc_dicts={}
for pdf in all_pdfs:
    pdf_file_path=os.path.join(directory, pdf)
    print(pdf)
    doc=fitz.open(pdf_file_path)
    

    #doc= fitz.open("../PDFExtraction/pdfs/AnnualReport1.pdf")
    #doc= fitz.open("../PDFExtraction/pdfs/abbott_2023_annual_report.pdf")
    #for testing, it is a dict of all pdfs and their analyzed table of contents which is in a dict
    print(f"total pages :{doc.page_count}")


    toc_page_num=0 #represents the table of contents(TOC) page number


    #get the table of contents page number  
    for i in range (0,doc.page_count):
        current_page= doc.load_page(i)
        
        extracted_text=current_page.get_text()
        #print(f"current page number:{i}")
        #print(extracted_text)
    
        regex_table_of_content=r'(table\s+of\s+contents)|(contents)|(in\s+this\s+)/gi'
        if re.findall(regex_table_of_content,extracted_text.lower()):
            print(f"table of contents on page {i}")
            toc_page_num= i
            



    toc_page_text= doc.load_page(toc_page_num).get_text()
    #print(toc_page_text)
    
    # a dict to hold the headings and their page number
    dict_headings={}
    
    '''
    regex_for_heading_and_its_page_num=r'^([^\.]+)([^a-zA-Z\d]+)([\d\s]+)$'
    checking_regex= re.match(regex_for_heading_and_its_page_num, toc_page_text)
    print(type(checking_regex))
    
    if checking_regex:
        print(f"heading and its page number is present")
    
    else:
        print(f"no headings present")
    '''
    #split the table of contents page by new line character
    split_array= toc_page_text.split('\n')
    
    ###################################################################################################
    #clean the contents. like removing the dots from the table of contents,etc.
    #remove the dots from the table of contents sentences eg:heading.................46
    cleaned_table_of_contents=[]
    
    for sentence in split_array:
        #split each sentence to give words in each sentence
        if sentence.strip().lower() not in ["table of contents","page","index"]:
            inner_split_arr= sentence.split()
            cleaned_sentence_arr=[]
            for word in inner_split_arr:
                if word.strip() !="." and word !=" ":
                    cleaned_sentence_arr.append(word.strip())
        
            print(cleaned_sentence_arr)
            joined_cleaned_sentence= ' '.join(cleaned_sentence_arr)
            if len(cleaned_sentence_arr)>0:
                cleaned_table_of_contents.append(joined_cleaned_sentence)
    
    print()
    #print(cleaned_table_of_contents)  
    ###################################################################################################
    
    cleaned_split_array=[]
    
    '''
    1.check whether there is a digit in the sentence
    2. if yes then consider the sentence
    3. if no then check whether the last sentence contains a digit 
    4. if yes then consider it
    5. if no , then check whether the next sentence contains the digit, if yes then consider it
    '''
    
    regex_for_presence_of_digits=r'(\d+)'
    for index,sentence in enumerate(cleaned_table_of_contents):
        if re.findall(regex_for_presence_of_digits,sentence):
            cleaned_split_array.append(sentence)
        elif re.findall(regex_for_presence_of_digits,cleaned_table_of_contents[index-1]):
            #print(index)
            #print(f" index is {index} ,current sentence:{sentence} sentence at previous index: {cleaned_table_of_contents[index-1]}")
            cleaned_split_array.append(sentence)
        elif index < len(cleaned_table_of_contents)-1:
            if re.findall(regex_for_presence_of_digits,cleaned_table_of_contents[index+1]):
                cleaned_split_array.append(sentence)
       
    print()
    print()
    #print(cleaned_split_array)
    
    #determine where are the page numbers with respect to the headings
    
    new_cleaned_split_array=[]
    
    #1. iterate over 'cleaned_split_array' elements and split the sentences that contain digits to find the pattern
    for index,sentence in enumerate(cleaned_split_array):
        if re.findall(regex_for_presence_of_digits,sentence):
            split_sentence= re.split(r'^(\s*\d+)|(\d+\s*)$',sentence) #need to test this regex
            #print(split_sentence)
            new_cleaned_split_array.extend(split_sentence)
        else:
            new_cleaned_split_array.append(sentence)
    print()
    #print(new_cleaned_split_array)
    
    #2. remove any empty strings
    final_split_cleaned_array=[]
    for sentence in new_cleaned_split_array:
        if sentence!="" and sentence!=" " and sentence!=None and sentence!=".":
            final_split_cleaned_array.append(sentence)
    print()
    print(final_split_cleaned_array)
            
    #.find the pattern. 0 => digit,1=> word
    toc_pattern=[]
    for sentence in final_split_cleaned_array:
        if sentence.strip().isdigit():
            toc_pattern.append(0)
        else:
            toc_pattern.append(1)
    print(toc_pattern)
    
    
    cleaned_toc_pattern=[]
    for index, element in enumerate(toc_pattern):
        if index==0:
            cleaned_toc_pattern.append(element)
        elif toc_pattern[index-1]!=element:
            cleaned_toc_pattern.append(element)
    print(cleaned_toc_pattern)
    
    
    #check the ending element in the cleaned toc pattern. This signifies whether the ending element is string or digit and assumption is that it is correct ie. if its a digit here it means that it is a page number in the pdf as well
    #the last pair of elements is the actual order
    actual_order=[cleaned_toc_pattern[-2], cleaned_toc_pattern[-1]]
    print(actual_order)
    
    
    #create the dictionary
    
    for index,sentence in enumerate(final_split_cleaned_array):
        if toc_pattern[index]==actual_order[0] and toc_pattern[index+1]==actual_order[1]:
            dict_headings[final_split_cleaned_array[index]]=final_split_cleaned_array[index+1]
    all_toc_dicts[pdf]=dict_headings
    print(dict_headings)

    
    #determine pattern. Run the loop in reverse
    '''
    index= len(cleaned_toc_pattern)-1
    selected_element=cleaned_toc_pattern[index]#select the last element . Here element means either digit or string ie 0 or 1
    current_pattern=[selected_element]
    current_pattern_len=2
    count_digit_after_string=0
    count_string_after_digit=0
    
    while(index>=0):
        if toc_pattern[index]==0 and toc_pattern[index+1] == 1 :
            count_string_after_digit+=1
        elif toc_pattern[index]==1 and toc_pattern[index+1] == 0:
            count_digit_after_string+=1
        
        index+=2
    
    print(f"Digit after string count:{count_digit_after_string}")
    print(f"String after digit count:{count_string_after_digit}")
    '''
    '''
    #create the dictionary
    for i in range(0,len(cleaned_table_of_contents)):
        if(i!=len(cleaned_table_of_contents)-1):
            y=i+1
        else:
            break
        if cleaned_table_of_contents[y].isdigit():
            dict_headings[int(cleaned_table_of_contents[y])]=cleaned_table_of_contents[i]
    print()
    print(dict_headings)
    '''

print(all_toc_dicts)






